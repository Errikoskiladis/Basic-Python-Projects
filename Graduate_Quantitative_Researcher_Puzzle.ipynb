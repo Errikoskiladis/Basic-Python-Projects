{
  "cells": [
    {
      "cell_type": "markdown",
      "metadata": {
        "id": "9kIIpr0kYHYO"
      },
      "source": [
        "## **Full Puzzle Solution by Errikos Kiladis**"
      ]
    },
    {
      "cell_type": "markdown",
      "metadata": {
        "id": "cboFtV5qJzKN"
      },
      "source": [
        "## **FIRST QUESTION**"
      ]
    },
    {
      "cell_type": "code",
      "execution_count": null,
      "metadata": {
        "id": "yX9MArUtil1m"
      },
      "outputs": [],
      "source": [
        "import pandas as pd\n",
        "\n",
        "list_of_results_1 = []\n",
        "for i in range(20000):\n",
        "\n",
        "  Boundaries = [[1,1],[1,2],[1,3],[1,4],[1,5],[2,1],[3,1],[4,1],[5,1],[5,2],[5,3],[5,4],[5,5],[2,5],[3,5],[4,5]]\n",
        "\n",
        "  seconds_till_food_reach = 0\n",
        "\n",
        "  Anthill = [3,3]\n",
        "\n",
        "  current_position = Anthill\n",
        "\n",
        "  from numpy import random\n",
        "\n",
        "  seconds_till_food_reach = 0\n",
        "  while current_position not in Boundaries:\n",
        "\n",
        "    step = random.choice(['north', 'south', 'west', 'east'])\n",
        "\n",
        "    if step == 'north':\n",
        "      current_position[0] = current_position[0] - 1\n",
        "\n",
        "    elif step == 'south':\n",
        "      current_position[0] = current_position[0] + 1\n",
        "\n",
        "    elif step == 'west':\n",
        "      current_position[1] = current_position[1] - 1 \n",
        "\n",
        "    elif step == 'east':\n",
        "\n",
        "      current_position[1] = current_position[1] + 1\n",
        "\n",
        "    seconds_till_food_reach += 1\n",
        "\n",
        "  list_of_results_1.append(seconds_till_food_reach)\n",
        "\n",
        "s = pd.Series(list_of_results_1)\n",
        "s.describe()\n",
        "\n"
      ]
    },
    {
      "cell_type": "code",
      "source": [
        "s.describe()"
      ],
      "metadata": {
        "colab": {
          "base_uri": "https://localhost:8080/"
        },
        "id": "YRqvM3fT0KVq",
        "outputId": "1d8a9eaf-42a8-4788-8dd6-e25099edc03b"
      },
      "execution_count": null,
      "outputs": [
        {
          "output_type": "execute_result",
          "data": {
            "text/plain": [
              "count    20000.000000\n",
              "mean         4.520900\n",
              "std          2.910805\n",
              "min          2.000000\n",
              "25%          3.000000\n",
              "50%          3.000000\n",
              "75%          6.000000\n",
              "max         29.000000\n",
              "dtype: float64"
            ]
          },
          "metadata": {},
          "execution_count": 53
        }
      ]
    },
    {
      "cell_type": "code",
      "execution_count": null,
      "metadata": {
        "colab": {
          "base_uri": "https://localhost:8080/"
        },
        "id": "wxKzuWAkQmUs",
        "outputId": "52c0cbce-3028-4597-ea95-8fe96c4c721f"
      },
      "outputs": [
        {
          "output_type": "stream",
          "name": "stdout",
          "text": [
            "1st Answer: The estimated average time is 4.5209 seconds.\n"
          ]
        }
      ],
      "source": [
        "print(f\"1st Answer: The estimated average time is {s.mean()} seconds.\")"
      ]
    },
    {
      "cell_type": "markdown",
      "metadata": {
        "id": "wXAf0_WTY4_s"
      },
      "source": []
    },
    {
      "cell_type": "code",
      "execution_count": null,
      "metadata": {
        "colab": {
          "base_uri": "https://localhost:8080/",
          "height": 315
        },
        "id": "wyU3L1FEY5YJ",
        "outputId": "498ae011-0d69-467b-e4d3-48108dc5c5ee"
      },
      "outputs": [
        {
          "output_type": "execute_result",
          "data": {
            "text/plain": [
              "Text(0.5, 1.0, 'Simulation Results')"
            ]
          },
          "metadata": {},
          "execution_count": 60
        },
        {
          "output_type": "display_data",
          "data": {
            "text/plain": [
              "<Figure size 432x288 with 1 Axes>"
            ],
            "image/png": "[encoded data removed]"
          },
          "metadata": {
            "needs_background": "light"
          }
        }
      ],
      "source": [
        "import matplotlib.pyplot as plt\n",
        "df = pd.DataFrame({'Seconds': list_of_results_1})\n",
        "df.groupby('Seconds', as_index=True).size().plot(kind='bar')\n",
        "plt.ylabel('Frequency')\n",
        "\n",
        "plt.title('Simulation Results')"
      ]
    },
    {
      "cell_type": "markdown",
      "metadata": {
        "id": "cue3kN0FJSSZ"
      },
      "source": [
        "## **SECOND QUESTION**"
      ]
    },
    {
      "cell_type": "code",
      "execution_count": null,
      "metadata": {
        "colab": {
          "base_uri": "https://localhost:8080/"
        },
        "id": "tUm3FG-_ZDgk",
        "outputId": "a25d462e-620b-4993-e149-e8ab685049b8"
      },
      "outputs": [
        {
          "output_type": "execute_result",
          "data": {
            "text/plain": [
              "count     20000.000000\n",
              "mean       1540.621700\n",
              "std       24715.827661\n",
              "min           1.000000\n",
              "25%           1.000000\n",
              "50%           1.000000\n",
              "75%           9.000000\n",
              "max      604801.000000\n",
              "dtype: float64"
            ]
          },
          "metadata": {},
          "execution_count": 56
        }
      ],
      "source": [
        "import pandas as pd\n",
        "\n",
        "list_of_results_2 = []\n",
        "for i in range(20000):\n",
        "\n",
        "  seconds_till_food_reach = 0\n",
        "\n",
        "  Anthill = [3,3]\n",
        "\n",
        "  current_position = Anthill\n",
        "\n",
        "  from numpy import random\n",
        "\n",
        "  seconds_till_food_reach = 0\n",
        "\n",
        "  while (current_position[0] >= current_position[1]) and (seconds_till_food_reach <= 604800):\n",
        "\n",
        "      step = random.choice(['north', 'south', 'west', 'east'])\n",
        "\n",
        "      if step == 'north':\n",
        "        current_position[0] = current_position[0] - 1\n",
        "\n",
        "      elif step == 'south':\n",
        "        current_position[0] = current_position[0] + 1\n",
        "\n",
        "      elif step == 'east':\n",
        "        current_position[1] = current_position[1] + 1\n",
        "\n",
        "      elif step == 'west':\n",
        "\n",
        "        current_position[1] = current_position[1] - 1\n",
        "\n",
        "      seconds_till_food_reach += 1\n",
        "\n",
        "  list_of_results_2.append(seconds_till_food_reach)\n",
        "\n",
        "s2 = pd.Series(list_of_results_2)\n",
        "s2.describe()\n"
      ]
    },
    {
      "cell_type": "code",
      "execution_count": null,
      "metadata": {
        "colab": {
          "base_uri": "https://localhost:8080/"
        },
        "id": "S4WZ04cZQIvM",
        "outputId": "94ec6eff-21f1-4c0b-890d-fac9af7ac24f"
      },
      "outputs": [
        {
          "output_type": "stream",
          "name": "stdout",
          "text": [
            "2nd Answer: The estimated average time is 1540.6217 seconds.\n"
          ]
        }
      ],
      "source": [
        "print(f\"2nd Answer: The estimated average time is {s2.mean()} seconds.\")"
      ]
    },
    {
      "cell_type": "code",
      "execution_count": null,
      "metadata": {
        "id": "2yXjY6JcbtuZ"
      },
      "outputs": [],
      "source": [
        "import matplotlib.pyplot as plt\n",
        "df = pd.DataFrame({'Seconds': list_of_results_2})\n",
        "df.groupby('Seconds', as_index=True).size().plot(kind='bar')\n",
        "plt.ylabel('Frequency')\n",
        "plt.show()"
      ]
    },
    {
      "cell_type": "markdown",
      "metadata": {
        "id": "5ilKZnI_XP9B"
      },
      "source": [
        "## **THIRD QUESTION** "
      ]
    },
    {
      "cell_type": "code",
      "execution_count": null,
      "metadata": {
        "colab": {
          "base_uri": "https://localhost:8080/"
        },
        "id": "dpb6hkz4ONcd",
        "outputId": "197852ba-375a-433c-fe10-58cdf69d432e"
      },
      "outputs": [
        {
          "output_type": "execute_result",
          "data": {
            "text/plain": [
              "count    20000.000000\n",
              "mean        13.952500\n",
              "std          9.517572\n",
              "min          3.000000\n",
              "25%          7.000000\n",
              "50%         11.000000\n",
              "75%         18.000000\n",
              "max         99.000000\n",
              "dtype: float64"
            ]
          },
          "metadata": {},
          "execution_count": 61
        }
      ],
      "source": [
        "import pandas as pd\n",
        "\n",
        "list_of_results_3 = []\n",
        "for i in range(20000):\n",
        "\n",
        "  seconds_till_food_reach = 0\n",
        "\n",
        "  Anthill = [0,0]\n",
        "\n",
        "  current_position = Anthill\n",
        "\n",
        "  from numpy import random\n",
        "\n",
        "  seconds_till_food_reach = 0\n",
        "\n",
        "  while (((current_position[0]-2.5)/30)**2) + (((current_position[1]-2.5)/40)**2) < 1: \n",
        "\n",
        "      step = random.choice(['north', 'south', 'west', 'east'])\n",
        "\n",
        "      if step == 'north':\n",
        "        current_position[1] = current_position[1] + 10\n",
        "\n",
        "      elif step == 'south':\n",
        "        current_position[1] = current_position[1] - 10\n",
        "\n",
        "      elif step == 'east':\n",
        "        current_position[0] = current_position[0] + 10\n",
        "\n",
        "      elif step == 'west':\n",
        "\n",
        "        current_position[0] = current_position[0] - 10\n",
        "\n",
        "      seconds_till_food_reach += 1\n",
        "\n",
        "  list_of_results_3.append(seconds_till_food_reach)\n",
        "\n",
        "s3 = pd.Series(list_of_results_3)\n",
        "s3.describe()\n"
      ]
    },
    {
      "cell_type": "code",
      "execution_count": null,
      "metadata": {
        "colab": {
          "base_uri": "https://localhost:8080/",
          "height": 298
        },
        "id": "gf0lEYpMQBPL",
        "outputId": "7f66a3e4-6ef3-44be-8e9d-34c328424422"
      },
      "outputs": [
        {
          "output_type": "display_data",
          "data": {
            "text/plain": [
              "<Figure size 432x288 with 1 Axes>"
            ],
            "image/png": "[encoded data removed]"
          },
          "metadata": {
            "needs_background": "light"
          }
        }
      ],
      "source": [
        "import matplotlib.pyplot as plt\n",
        "df = pd.DataFrame({'Seconds': list_of_results_3})\n",
        "df.groupby('Seconds', as_index=True).size().plot(kind='bar')\n",
        "plt.ylabel('Frequency')\n",
        "\n",
        "plt.title('3. Simulation Results')\n",
        "plt.show()"
      ]
    },
    {
      "cell_type": "code",
      "execution_count": null,
      "metadata": {
        "id": "Yy6eFxynZmwh",
        "colab": {
          "base_uri": "https://localhost:8080/"
        },
        "outputId": "51b48ab1-54db-406e-e338-520f7fa68008"
      },
      "outputs": [
        {
          "output_type": "stream",
          "name": "stdout",
          "text": [
            "3rd Answer: The estimated average time is 13.9525 seconds.\n"
          ]
        }
      ],
      "source": [
        "print(f\"3rd Answer: The estimated average time is {(s3.mean())} seconds.\")"
      ]
    },
    {
      "cell_type": "code",
      "source": [],
      "metadata": {
        "id": "4rSLXcu9-gsn"
      },
      "execution_count": null,
      "outputs": []
    }
  ],
  "metadata": {
    "colab": {
      "collapsed_sections": [
        "cboFtV5qJzKN",
        "cue3kN0FJSSZ",
        "5ilKZnI_XP9B"
      ],
      "provenance": []
    },
    "kernelspec": {
      "display_name": "Python 3",
      "name": "python3"
    },
    "language_info": {
      "name": "python"
    }
  },
  "nbformat": 4,
  "nbformat_minor": 0
}